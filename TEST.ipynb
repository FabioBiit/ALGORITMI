{
 "cells": [
  {
   "cell_type": "code",
   "execution_count": null,
   "metadata": {
    "jupyter": {
     "outputs_hidden": false,
     "source_hidden": false
    },
    "nteract": {
     "transient": {
      "deleting": false
     }
    }
   },
   "outputs": [],
   "source": [
    "#VAR DINAMICA\n",
    "\n",
    "x = ''\n",
    "\n",
    "for i in range(0, 6):\n",
    "    x += '*'\n",
    "    print(x)\n",
    "    if(i == 5):\n",
    "        for j in range(0, 6):\n",
    "            y = x\n",
    "            y = x[:-1]\n",
    "            x = y\n",
    "            print(y)\n"
   ]
  },
  {
   "cell_type": "code",
   "execution_count": 4,
   "metadata": {},
   "outputs": [
    {
     "name": "stdout",
     "output_type": "stream",
     "text": [
      "[1, 1, 2, 3, 5, 8, 13, 21, 34, 55, 89, 144, 233, 377, 610, 987, 1597, 2584, 4181, 6765, 10946, 17711, 28657, 46368, 75025, 121393, 196418, 317811, 514229, 832040, 1346269, 2178309, 3524578, 5702887, 9227465, 14930352, 24157817, 39088169, 63245986, 102334155, 165580141, 267914296, 433494437, 701408733, 1134903170, 1836311903, 2971215073, 4807526976, 7778742049, 12586269025, 20365011074, 32951280099, 53316291173, 86267571272, 139583862445, 225851433717, 365435296162, 591286729879, 956722026041, 1548008755920, 2504730781961, 4052739537881, 6557470319842, 10610209857723, 17167680177565, 27777890035288, 44945570212853, 72723460248141, 117669030460994, 190392490709135, 308061521170129, 498454011879264, 806515533049393, 1304969544928657, 2111485077978050, 3416454622906707, 5527939700884757, 8944394323791464, 14472334024676221, 23416728348467685, 37889062373143906, 61305790721611591, 99194853094755497, 160500643816367088, 259695496911122585, 420196140727489673, 679891637638612258, 1100087778366101931, 1779979416004714189, 2880067194370816120, 4660046610375530309, 7540113804746346429, 12200160415121876738, 19740274219868223167, 31940434634990099905, 51680708854858323072, 83621143489848422977, 135301852344706746049, 218922995834555169026, 354224848179261915075]\n",
      "Nei primi 100 numeri della serie di Fiboncacci, vi sono 33 numeri pari & 67 numeri dispari in totale\n"
     ]
    }
   ],
   "source": [
    "#FIBONACCI\n",
    "\n",
    "arr2 = []\n",
    "\n",
    "x = 1\n",
    "y = 0\n",
    "z = 0\n",
    "\n",
    "for i in range(0, 100):\n",
    "\n",
    "    z = x + y\n",
    "    x = y\n",
    "    y = z\n",
    "    arr2.append(y)\n",
    "\n",
    "print(arr2)\n",
    "\n",
    "conta_p = 0\n",
    "conta_d = 0\n",
    "\n",
    "for i in arr2:\n",
    "    if (i % 2) == 0:\n",
    "        conta_p += 1\n",
    "    else: \n",
    "        conta_d += 1\n",
    "\n",
    "print(f\"Nei primi 100 numeri della serie di Fiboncacci, vi sono {conta_p} numeri pari & {conta_d} numeri dispari in totale\")"
   ]
  },
  {
   "cell_type": "code",
   "execution_count": 40,
   "metadata": {
    "jupyter": {
     "outputs_hidden": false,
     "source_hidden": false
    },
    "nteract": {
     "transient": {
      "deleting": false
     }
    }
   },
   "outputs": [
    {
     "name": "stdout",
     "output_type": "stream",
     "text": [
      "Ammacca\n",
      "Banane\n",
      "And\n",
      "Cipolle\n"
     ]
    }
   ],
   "source": [
    "#RICERCA STRINGHE IN DIZIONARIO\n",
    "\n",
    "stri = \"AmmaccaBananeAndCipolle\"\n",
    "\n",
    "diz = {\"ammacca\", \"Hola\", \"banane\", \"Ducati\", \"cipolle\"}\n",
    "\n",
    "\"\"\"\n",
    "parola1 = stri[0:7]\n",
    "parola2 = stri[7:13].lower()\n",
    "parola3 = stri[13:].lower()\n",
    "\n",
    "for valore in diz:\n",
    "    if parola1 in valore:\n",
    "        print(valore)\n",
    "              \n",
    "if parola3 or parola2 in diz:\n",
    "    print(parola2)\n",
    "    print(parola3)\n",
    "else:\n",
    "    print(\"none\")\n",
    "\"\"\"\n",
    "    \n",
    "str1 = \"\"\n",
    "for i, char in enumerate(stri):\n",
    "    if char.isupper() and str1:\n",
    "        # Stampa il segmento accumulato\n",
    "        print(str1)\n",
    "        str1 = char\n",
    "    else:\n",
    "        str1 += char\n",
    "\n",
    "    # Gestisce l'ultimo carattere della stringa\n",
    "    if i == len(stri) - 1:\n",
    "        print(str1)\n"
   ]
  },
  {
   "cell_type": "code",
   "execution_count": null,
   "metadata": {
    "jupyter": {
     "outputs_hidden": false,
     "source_hidden": false
    },
    "nteract": {
     "transient": {
      "deleting": false
     }
    }
   },
   "outputs": [],
   "source": [
    "#ORDINA ARRAY E TROVA LA COPPIA MOLTIPLICATA PIù GRANDE\n",
    "\n",
    "numberz = [-13, 44, 122, -847, -123, 9872, 34]\n",
    "\n",
    "numberz.sort()\n",
    "\n",
    "for i in range(len(numberz) - 1):\n",
    "    prod = numberz[i] * numberz[i+1]\n",
    "    prod2 = prod\n",
    "if (prod2 <= prod):\n",
    "    print(prod)\n",
    "else:\n",
    "    print(prod2)"
   ]
  },
  {
   "cell_type": "code",
   "execution_count": 26,
   "metadata": {},
   "outputs": [
    {
     "name": "stdout",
     "output_type": "stream",
     "text": [
      "camel_string_case\n"
     ]
    }
   ],
   "source": [
    "#CAMELSTRING TO SNAKE_STRING (o con REGEX)\n",
    "\n",
    "str1 = \"camelStringCase\"\n",
    "str2 = \"\"\n",
    "\n",
    "for char in str1:\n",
    "    if char.isupper():\n",
    "        str2 += \"_\"+char.lower()\n",
    "    else:\n",
    "        str2 += char\n",
    "        str2.lstrip(\"_\")\n",
    "print(str2)\n",
    "    "
   ]
  },
  {
   "cell_type": "code",
   "execution_count": null,
   "metadata": {
    "jupyter": {
     "outputs_hidden": false,
     "source_hidden": false
    },
    "nteract": {
     "transient": {
      "deleting": false
     }
    }
   },
   "outputs": [],
   "source": [
    "#SAME SOPRA MA DIVERSO\n",
    "\n",
    "numberz = [-13, 44, 122, -847, -123, 9872, 34]\n",
    "\n",
    "numberz.sort()\n",
    "\n",
    "for index, i in enumerate(numberz):\n",
    "    if index < len(numberz)-1:\n",
    "        y = i * numberz[index+1]\n",
    "        print(y)"
   ]
  },
  {
   "cell_type": "code",
   "execution_count": null,
   "metadata": {},
   "outputs": [],
   "source": [
    "anno_att = 2024\n",
    "mese_attuale = 4\n",
    "data_analisi = 2024-10-17\n",
    "\n",
    "if mese_attuale == 7:\n",
    "    mese_precedente = \"03\"\n",
    "\n",
    "if mese_attuale == 10:\n",
    "    mese_precedente = \"06\"\n",
    "\n",
    "if mese_attuale == 1:\n",
    "    mese_prece = \"09\"\n",
    "    anno_att -= 1 \n",
    "\n",
    "if mese_attuale == 4:\n",
    "    mese_prece = \"12\"\n",
    "    anno_att -= 1\n",
    "\n",
    "anno_attuale = str(anno_att)\n",
    "\n",
    "print(mese_precedente)"
   ]
  },
  {
   "cell_type": "code",
   "execution_count": null,
   "metadata": {},
   "outputs": [],
   "source": [
    "#Controlli sulle variabili dinamiche affinche si prenda sempre il mese corretto e vengano convertite in stringhe\n",
    "\n",
    "if mese_attuale%3 == 0:\n",
    "\n",
    "    mese_prece = mese_attuale - 3\n",
    "\n",
    "    if len(str(mese_prece)) < 2:\n",
    "        mese_precedente = '0'+str(mese_prece)\n",
    "    else:\n",
    "        mese_precedente = str(mese_prece)\n",
    "\n",
    "else:      \n",
    "    mese_prece = 0\n",
    "\n",
    "anno_attuale = str(anno_att)\n"
   ]
  },
  {
   "cell_type": "code",
   "execution_count": null,
   "metadata": {},
   "outputs": [],
   "source": [
    "anno_att = 2026\n",
    "mese_attuale = 2\n",
    "\n",
    "mesi = []\n",
    "\n",
    "#Controlli sulle variabili dinamiche affinché si prenda sempre il mese corretto e vengano convertite in stringhe\n",
    "if mese_attuale != 1 and mese_attuale != 2:\n",
    "\n",
    "    mese_prece_2 = mese_attuale - 2\n",
    "    mese_prece_1 = mese_attuale - 1\n",
    "    \n",
    "    if len(str(mese_prece_2)) < 2:\n",
    "        mesi.append('0'+str(mese_prece_2))\n",
    "    else:\n",
    "        mesi.append(str(mese_prece_2))\n",
    "    \n",
    "    if len(str(mese_prece_1)) < 2:\n",
    "        mesi.append('0'+str(mese_prece_1))\n",
    "    else:\n",
    "        mesi.append(str(mese_prece_1))\n",
    "\n",
    "    anno_attuale = str(anno_att)\n",
    "\n",
    "elif mese_attuale == 1:\n",
    "\n",
    "    mese_prece_2 = \"11\"     \n",
    "    mese_prece_1 = \"12\"\n",
    "\n",
    "    mesi.append(mese_prece_2)\n",
    "    mesi.append(mese_prece_1)\n",
    "\n",
    "    anno_attuale = str(anno_att-1)\n",
    "\n",
    "elif mese_attuale == 2:\n",
    "\n",
    "    mese_prece_1 = \"01\"\n",
    "\n",
    "    mesi.append(mese_prece_1)\n",
    "\n",
    "    anno_attuale = str(anno_att)"
   ]
  },
  {
   "cell_type": "code",
   "execution_count": null,
   "metadata": {},
   "outputs": [],
   "source": [
    "print(mese_prece_1)\n",
    "print(anno_attuale)\n",
    "print(mesi)"
   ]
  },
  {
   "cell_type": "code",
   "execution_count": null,
   "metadata": {},
   "outputs": [],
   "source": [
    "#CICLO FOR\n",
    "\n",
    "parola = [\"apple\",\"hello\"]\n",
    "\n",
    "vocali = [\"a\",\"e\",\"i\",\"o\",\"u\"]\n",
    "\n",
    "for par in parola:\n",
    "    for char in vocali:\n",
    "        if par.startswith(char):\n",
    "            str2 = par+\"way\"\n",
    "            print(str2)\n",
    "            break\n",
    "        else:\n",
    "            str1 = \"\"\n",
    "            for i in range(1, len(par)):\n",
    "                str1 += par[i]\n",
    "            str2 = str1+par[0]+\"ay\"\n",
    "            print(str2)\n",
    "            break"
   ]
  },
  {
   "cell_type": "code",
   "execution_count": null,
   "metadata": {},
   "outputs": [],
   "source": [
    "# SLICING STRINGHE\n",
    "\n",
    "parola = [\"apple\",\"hello\"]\n",
    "\n",
    "vocali = [\"a\",\"e\",\"i\",\"o\",\"u\"]\n",
    "\n",
    "for par in parola:\n",
    "    if par[0] in vocali:\n",
    "        str1 = par+\"way\"\n",
    "        print(str1)\n",
    "    else:\n",
    "        str2 = par[1:]\n",
    "        str3 = str2+par[0]+\"ay\"\n",
    "        print(str3)"
   ]
  },
  {
   "cell_type": "code",
   "execution_count": null,
   "metadata": {},
   "outputs": [],
   "source": [
    "#SLICING\n",
    "\n",
    "parola = \"hello\"\n",
    "\n",
    "vocali = [\"a\",\"e\",\"i\",\"o\",\"u\"]\n",
    "\n",
    "if parola[0] in vocali:\n",
    "    str1 = parola+\"way\"\n",
    "    print(str1)\n",
    "else:\n",
    "    str2 = parola[::-1]\n",
    "    str3 = str2+\"rev\"\n",
    "    print(str3)"
   ]
  },
  {
   "cell_type": "code",
   "execution_count": null,
   "metadata": {},
   "outputs": [],
   "source": [
    "#CICLO FOR\n",
    "\n",
    "parola = \"hello\"\n",
    "\n",
    "lung = len(parola) - 1\n",
    "\n",
    "#print(lung)\n",
    "\n",
    "str1 = \"\"\n",
    "\n",
    "for i, char in enumerate(parola):\n",
    "    j = lung\n",
    "    str1 += parola[j]\n",
    "    lung -= 1\n",
    "\n",
    "print(str1)\n"
   ]
  },
  {
   "cell_type": "code",
   "execution_count": null,
   "metadata": {},
   "outputs": [],
   "source": [
    "parola = \"provaCheFunzioniQuestoScript\"\n",
    "\n",
    "str1 = \"\"\n",
    "\n",
    "for char in parola:\n",
    "    if char.isupper() == True :\n",
    "        #print(\"ok\")\n",
    "        str1 += \"_\"+char.lower()\n",
    "    else:\n",
    "        str1 += char\n",
    "\n",
    "print(str1)\n",
    "\n"
   ]
  },
  {
   "cell_type": "code",
   "execution_count": null,
   "metadata": {},
   "outputs": [],
   "source": [
    "import random\n",
    "import numpy as np\n",
    "import heapq\n",
    "\n",
    "num_rand = []\n",
    "\n",
    "def heapsort(array):\n",
    "    heapq.heapify(array)\n",
    "    return [heapq.heappop(array) for _ in range(len(array))]\n",
    "\n",
    "for n in range(1, 100000):\n",
    "\n",
    "    num_rand.append(random.randint(-100000, 100000))\n",
    "\n",
    "split_arr_num = np.array_split(num_rand,2)\n",
    "\n",
    "for i in range(2):\n",
    "    print(split_arr_num[i].tolist())\n",
    "    ord = heapsort(split_arr_num[i].tolist())\n",
    "    print(ord), print(\"\\n\")\n",
    "\n",
    "    for index in range(len(ord)-1):\n",
    "        coppia = ord[index]*ord[index+1]   \n",
    "        if coppia >= (ord[index]*ord[index+1]):\n",
    "            coppia = coppia\n",
    "        else:\n",
    "            coppia = ord[index]*ord[index+1]\n",
    "\n",
    "    print(coppia)\n",
    "\n"
   ]
  },
  {
   "cell_type": "code",
   "execution_count": null,
   "metadata": {},
   "outputs": [],
   "source": [
    "from PyQt5.QtWidgets import QApplication, QMainWindow, QVBoxLayout, QWidget, QPushButton, QLabel,  QLineEdit\n",
    "import sys\n",
    "\n",
    "class MyWindow(QMainWindow):\n",
    "    def __init__(self):\n",
    "        super().__init__()\n",
    "        self.setWindowTitle(\"TEST\")\n",
    "        self.setGeometry(100, 100, 600, 400)\n",
    "\n",
    "        # Layout principale\n",
    "        self.central_widget = QWidget()\n",
    "        self.layout = QVBoxLayout()\n",
    "       \n",
    "        self.input = QLineEdit()\n",
    "        self.input.setPlaceholderText(\"Inserisci dati\")\n",
    "        self.input.setMinimumHeight(25)\n",
    "        self.input.setMaximumWidth(100)\n",
    "\n",
    "        self.input2 = QLineEdit()\n",
    "        self.input2.setPlaceholderText(\"Inserisci dati\")\n",
    "        self.input2.setMinimumHeight(25)\n",
    "        self.input2.setMaximumWidth(100)\n",
    "        \n",
    "        self.button = QPushButton(\"Calcola\")\n",
    "        self.button.setMinimumHeight(25)\n",
    "        self.button.setMaximumWidth(100)\n",
    "        self.button.clicked.connect(self.update_label)\n",
    "\n",
    "        # Widget\n",
    "        self.label = QLabel(\"Benvenuto!\")\n",
    "        self.label.setStyleSheet(\"font-size: 20px; color: green;\")\n",
    "\n",
    "        # Aggiungi i widget al layout\n",
    "        self.layout.addWidget(self.input)\n",
    "        self.layout.addWidget(self.input2)\n",
    "        self.layout.addWidget(self.button)\n",
    "        self.layout.addWidget(self.label)\n",
    "\n",
    "        self.central_widget.setLayout(self.layout)\n",
    "        self.setCentralWidget(self.central_widget)\n",
    "\n",
    "    def update_label(self):\n",
    "        testo = self.input.text()\n",
    "        self.label.setText(f\"Hai scritto: {testo}\")\n",
    "\n",
    "if __name__ == \"__main__\":\n",
    "    app = QApplication(sys.argv)\n",
    "    window = MyWindow()\n",
    "    window.show()\n",
    "    sys.exit(app.exec_())\n"
   ]
  }
 ],
 "metadata": {
  "description": null,
  "kernelspec": {
   "display_name": "Python 3",
   "language": "python",
   "name": "python3"
  },
  "language_info": {
   "codemirror_mode": {
    "name": "ipython",
    "version": 3
   },
   "file_extension": ".py",
   "mimetype": "text/x-python",
   "name": "python",
   "nbconvert_exporter": "python",
   "pygments_lexer": "ipython3",
   "version": "3.11.9"
  },
  "save_output": true,
  "synapse_widget": {
   "state": {},
   "version": "0.1"
  }
 },
 "nbformat": 4,
 "nbformat_minor": 2
}
